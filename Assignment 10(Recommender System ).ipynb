{
 "cells": [
  {
   "cell_type": "code",
   "execution_count": null,
   "id": "36b9e995",
   "metadata": {
    "ExecuteTime": {
     "start_time": "2022-11-07T09:11:36.833Z"
    }
   },
   "outputs": [],
   "source": [
    "import pandas as pd\n",
    "import numpy as np\n",
    "import matplotlib.pyplot as plt"
   ]
  },
  {
   "cell_type": "code",
   "execution_count": null,
   "id": "f01e7534",
   "metadata": {
    "ExecuteTime": {
     "start_time": "2022-11-07T08:40:04.996Z"
    }
   },
   "outputs": [],
   "source": [
    "book_df=pd.read_csv(\"Downloads/book (1).csv\",encoding='latin1')\n",
    "book_df.head(10)"
   ]
  },
  {
   "cell_type": "code",
   "execution_count": null,
   "id": "5034fc39",
   "metadata": {
    "ExecuteTime": {
     "start_time": "2022-11-07T08:40:04.999Z"
    }
   },
   "outputs": [],
   "source": [
    "#Rename the columns names\n",
    "book_df.rename({'User.ID':'user_id','Book.Title':'book_title','Book.Rating':'rating'},axis=1,inplace=True)"
   ]
  },
  {
   "cell_type": "code",
   "execution_count": null,
   "id": "1711cbd3",
   "metadata": {
    "ExecuteTime": {
     "start_time": "2022-11-07T08:40:05.001Z"
    }
   },
   "outputs": [],
   "source": [
    "#drop the columns\n",
    "book_df.drop(['Unnamed: 0'],axis=1,inplace=True)"
   ]
  },
  {
   "cell_type": "code",
   "execution_count": null,
   "id": "dcf7dbd4",
   "metadata": {
    "ExecuteTime": {
     "start_time": "2022-11-07T08:40:05.003Z"
    }
   },
   "outputs": [],
   "source": [
    "book_df.head()"
   ]
  },
  {
   "cell_type": "code",
   "execution_count": null,
   "id": "cf9cd696",
   "metadata": {
    "ExecuteTime": {
     "start_time": "2022-11-07T08:40:05.005Z"
    }
   },
   "outputs": [],
   "source": [
    "book_df.head(10)"
   ]
  },
  {
   "cell_type": "code",
   "execution_count": null,
   "id": "084f0839",
   "metadata": {
    "ExecuteTime": {
     "start_time": "2022-11-07T08:40:05.007Z"
    }
   },
   "outputs": [],
   "source": [
    "book_df.tail()"
   ]
  },
  {
   "cell_type": "code",
   "execution_count": null,
   "id": "140fe58b",
   "metadata": {
    "ExecuteTime": {
     "start_time": "2022-11-07T08:40:05.009Z"
    }
   },
   "outputs": [],
   "source": [
    "book_df.tail(10)"
   ]
  },
  {
   "cell_type": "code",
   "execution_count": null,
   "id": "4473fd5d",
   "metadata": {
    "ExecuteTime": {
     "start_time": "2022-11-07T08:40:05.011Z"
    }
   },
   "outputs": [],
   "source": [
    "book_df.shape"
   ]
  },
  {
   "cell_type": "code",
   "execution_count": null,
   "id": "50afc1c6",
   "metadata": {
    "ExecuteTime": {
     "start_time": "2022-11-07T08:40:05.013Z"
    }
   },
   "outputs": [],
   "source": [
    "book_df[0:5]"
   ]
  },
  {
   "cell_type": "code",
   "execution_count": null,
   "id": "9241dfc8",
   "metadata": {
    "ExecuteTime": {
     "start_time": "2022-11-07T08:40:05.015Z"
    }
   },
   "outputs": [],
   "source": [
    "book_df.info()"
   ]
  },
  {
   "cell_type": "code",
   "execution_count": null,
   "id": "94f8188a",
   "metadata": {
    "ExecuteTime": {
     "start_time": "2022-11-07T08:40:05.017Z"
    }
   },
   "outputs": [],
   "source": [
    "book_df.isnull().sum()"
   ]
  },
  {
   "cell_type": "code",
   "execution_count": null,
   "id": "79cd4d39",
   "metadata": {
    "ExecuteTime": {
     "start_time": "2022-11-07T08:40:05.019Z"
    }
   },
   "outputs": [],
   "source": [
    "book_df[book_df.duplicated()]"
   ]
  },
  {
   "cell_type": "code",
   "execution_count": null,
   "id": "b52db15b",
   "metadata": {
    "ExecuteTime": {
     "start_time": "2022-11-07T08:40:05.020Z"
    }
   },
   "outputs": [],
   "source": [
    "book_df[book_df.duplicated()].sum()"
   ]
  },
  {
   "cell_type": "code",
   "execution_count": null,
   "id": "301d0611",
   "metadata": {
    "ExecuteTime": {
     "start_time": "2022-11-07T08:40:05.022Z"
    }
   },
   "outputs": [],
   "source": [
    "book_df.duplicated().sum()"
   ]
  },
  {
   "cell_type": "code",
   "execution_count": null,
   "id": "45e6e9c0",
   "metadata": {
    "ExecuteTime": {
     "start_time": "2022-11-07T08:40:05.023Z"
    }
   },
   "outputs": [],
   "source": [
    "#drop the dublicated values\n",
    "book_df.drop_duplicates(inplace=True)\n",
    "book_df.duplicated().sum()"
   ]
  },
  {
   "cell_type": "code",
   "execution_count": null,
   "id": "5928ac4a",
   "metadata": {
    "ExecuteTime": {
     "start_time": "2022-11-07T08:40:05.025Z"
    }
   },
   "outputs": [],
   "source": [
    "len(book_df.user_id)"
   ]
  },
  {
   "cell_type": "code",
   "execution_count": null,
   "id": "72bafc1e",
   "metadata": {
    "ExecuteTime": {
     "start_time": "2022-11-07T08:40:05.026Z"
    }
   },
   "outputs": [],
   "source": [
    "len(book_df.user_id.unique())"
   ]
  },
  {
   "cell_type": "code",
   "execution_count": null,
   "id": "eb084aa3",
   "metadata": {
    "ExecuteTime": {
     "start_time": "2022-11-07T08:40:05.028Z"
    }
   },
   "outputs": [],
   "source": [
    "#number of unique users in the dataset\n",
    "book_df.user_id.unique()"
   ]
  },
  {
   "cell_type": "code",
   "execution_count": null,
   "id": "f7adb05f",
   "metadata": {
    "ExecuteTime": {
     "start_time": "2022-11-07T08:40:05.030Z"
    }
   },
   "outputs": [],
   "source": [
    "user_book_df = book_df.pivot_table(index='user_id',\n",
    "                                 columns='book_title',\n",
    "                                 values='rating')"
   ]
  },
  {
   "cell_type": "code",
   "execution_count": null,
   "id": "17b0ab84",
   "metadata": {
    "ExecuteTime": {
     "start_time": "2022-11-07T08:40:05.032Z"
    }
   },
   "outputs": [],
   "source": [
    "user_book_df.head(20)"
   ]
  },
  {
   "cell_type": "code",
   "execution_count": null,
   "id": "1520a54d",
   "metadata": {
    "ExecuteTime": {
     "start_time": "2022-11-07T08:40:05.034Z"
    }
   },
   "outputs": [],
   "source": [
    "user_book_df.index=book_df.user_id.unique()\n",
    "user_book_df.head(5)"
   ]
  },
  {
   "cell_type": "code",
   "execution_count": 2,
   "id": "4fc6377e",
   "metadata": {
    "ExecuteTime": {
     "end_time": "2022-11-07T09:26:00.129302Z",
     "start_time": "2022-11-07T09:26:00.100996Z"
    }
   },
   "outputs": [
    {
     "ename": "NameError",
     "evalue": "name 'user_book_df' is not defined",
     "output_type": "error",
     "traceback": [
      "\u001b[1;31m---------------------------------------------------------------------------\u001b[0m",
      "\u001b[1;31mNameError\u001b[0m                                 Traceback (most recent call last)",
      "\u001b[1;32mC:\\Users\\RAVIKU~1\\AppData\\Local\\Temp/ipykernel_14512/3200871473.py\u001b[0m in \u001b[0;36m<module>\u001b[1;34m\u001b[0m\n\u001b[0;32m      1\u001b[0m \u001b[1;31m# impute those NaN with 0 value\u001b[0m\u001b[1;33m\u001b[0m\u001b[1;33m\u001b[0m\u001b[0m\n\u001b[1;32m----> 2\u001b[1;33m \u001b[0muser_book_df\u001b[0m\u001b[1;33m.\u001b[0m\u001b[0mfillna\u001b[0m\u001b[1;33m(\u001b[0m\u001b[1;36m0\u001b[0m\u001b[1;33m,\u001b[0m\u001b[0minplace\u001b[0m\u001b[1;33m=\u001b[0m\u001b[1;32mTrue\u001b[0m\u001b[1;33m)\u001b[0m\u001b[1;33m\u001b[0m\u001b[1;33m\u001b[0m\u001b[0m\n\u001b[0m\u001b[0;32m      3\u001b[0m \u001b[0muser_book_df\u001b[0m\u001b[1;33m.\u001b[0m\u001b[0mhead\u001b[0m\u001b[1;33m(\u001b[0m\u001b[1;36m5\u001b[0m\u001b[1;33m)\u001b[0m\u001b[1;33m\u001b[0m\u001b[1;33m\u001b[0m\u001b[0m\n",
      "\u001b[1;31mNameError\u001b[0m: name 'user_book_df' is not defined"
     ]
    }
   ],
   "source": [
    "# impute those NaN with 0 value\n",
    "user_book_df.fillna(0,inplace=True)\n",
    "user_book_df.head(5)"
   ]
  },
  {
   "cell_type": "code",
   "execution_count": null,
   "id": "7b3a1c71",
   "metadata": {
    "ExecuteTime": {
     "start_time": "2022-11-07T08:40:05.037Z"
    }
   },
   "outputs": [],
   "source": [
    "#Calculating Cosine Similarity between Users\n",
    "from sklearn.metrics import pairwise_distances\n",
    "from scipy.spatial.distance import cosine, correlation"
   ]
  },
  {
   "cell_type": "code",
   "execution_count": null,
   "id": "554e5a13",
   "metadata": {
    "ExecuteTime": {
     "start_time": "2022-11-07T08:40:05.039Z"
    }
   },
   "outputs": [],
   "source": [
    "user_sim=1-pairwise_distances(book_df.values,metric='cosine').reset_index(drop=True)\n",
    "user_sim"
   ]
  },
  {
   "cell_type": "code",
   "execution_count": null,
   "id": "839ef29a",
   "metadata": {
    "ExecuteTime": {
     "start_time": "2022-11-07T08:40:05.040Z"
    }
   },
   "outputs": [],
   "source": [
    "user_sim_df = pd.DataFrame(user_sim)\n",
    "user_sim_df"
   ]
  },
  {
   "cell_type": "code",
   "execution_count": null,
   "id": "68c32976",
   "metadata": {
    "ExecuteTime": {
     "start_time": "2022-11-07T08:40:05.042Z"
    }
   },
   "outputs": [],
   "source": [
    "#Set the index and column names to user ids \n",
    "user_sim_df.index = book_df.index.unique()\n",
    "user_sim_df.columns =book_df.index.unique()"
   ]
  },
  {
   "cell_type": "code",
   "execution_count": null,
   "id": "32680194",
   "metadata": {
    "ExecuteTime": {
     "start_time": "2022-11-07T08:40:05.043Z"
    }
   },
   "outputs": [],
   "source": [
    "user_sim_df.iloc[0:5, 0:5]"
   ]
  },
  {
   "cell_type": "code",
   "execution_count": null,
   "id": "2e9ab0f5",
   "metadata": {
    "ExecuteTime": {
     "start_time": "2022-11-07T08:40:05.045Z"
    }
   },
   "outputs": [],
   "source": [
    "user_sim_df.shape"
   ]
  },
  {
   "cell_type": "code",
   "execution_count": null,
   "id": "fb15e1f5",
   "metadata": {
    "ExecuteTime": {
     "start_time": "2022-11-07T08:40:05.046Z"
    }
   },
   "outputs": [],
   "source": [
    "np.fill_diagonal(user_sim,0)\n",
    "user_sim_df.iloc[0:23,0:23]"
   ]
  },
  {
   "cell_type": "code",
   "execution_count": null,
   "id": "34448a05",
   "metadata": {
    "ExecuteTime": {
     "start_time": "2022-11-07T08:40:05.047Z"
    }
   },
   "outputs": [],
   "source": [
    "#Most Similar Users\n",
    "user_sim_df.idxmax(axis=1)[0:15]"
   ]
  },
  {
   "cell_type": "code",
   "execution_count": null,
   "id": "270fa2c0",
   "metadata": {
    "ExecuteTime": {
     "start_time": "2022-11-07T08:40:05.049Z"
    }
   },
   "outputs": [],
   "source": [
    "#book_df[(book_df['index']==6) | (book_df['index']==168)]"
   ]
  },
  {
   "cell_type": "code",
   "execution_count": null,
   "id": "892b8f5d",
   "metadata": {
    "ExecuteTime": {
     "start_time": "2022-11-07T08:40:05.051Z"
    }
   },
   "outputs": [],
   "source": [
    "#book_df.columns"
   ]
  }
 ],
 "metadata": {
  "kernelspec": {
   "display_name": "Python 3 (ipykernel)",
   "language": "python",
   "name": "python3"
  },
  "language_info": {
   "codemirror_mode": {
    "name": "ipython",
    "version": 3
   },
   "file_extension": ".py",
   "mimetype": "text/x-python",
   "name": "python",
   "nbconvert_exporter": "python",
   "pygments_lexer": "ipython3",
   "version": "3.9.7"
  }
 },
 "nbformat": 4,
 "nbformat_minor": 5
}
