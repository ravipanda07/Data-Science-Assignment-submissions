{
 "cells": [
  {
   "cell_type": "code",
   "execution_count": 1,
   "id": "a922f2db",
   "metadata": {
    "ExecuteTime": {
     "end_time": "2022-10-28T09:41:02.264388Z",
     "start_time": "2022-10-28T09:40:59.082879Z"
    }
   },
   "outputs": [
    {
     "name": "stdout",
     "output_type": "stream",
     "text": [
      "Requirement already satisfied: spacy in c:\\anacoda\\lib\\site-packages (3.4.2)\n",
      "Requirement already satisfied: thinc<8.2.0,>=8.1.0 in c:\\anacoda\\lib\\site-packages (from spacy) (8.1.5)\n",
      "Requirement already satisfied: spacy-legacy<3.1.0,>=3.0.10 in c:\\anacoda\\lib\\site-packages (from spacy) (3.0.10)\n",
      "Requirement already satisfied: preshed<3.1.0,>=3.0.2 in c:\\anacoda\\lib\\site-packages (from spacy) (3.0.8)\n",
      "Requirement already satisfied: pydantic!=1.8,!=1.8.1,<1.11.0,>=1.7.4 in c:\\anacoda\\lib\\site-packages (from spacy) (1.9.2)\n",
      "Requirement already satisfied: typer<0.5.0,>=0.3.0 in c:\\anacoda\\lib\\site-packages (from spacy) (0.4.2)\n",
      "Requirement already satisfied: langcodes<4.0.0,>=3.2.0 in c:\\anacoda\\lib\\site-packages (from spacy) (3.3.0)\n",
      "Requirement already satisfied: murmurhash<1.1.0,>=0.28.0 in c:\\anacoda\\lib\\site-packages (from spacy) (1.0.9)\n",
      "Requirement already satisfied: wasabi<1.1.0,>=0.9.1 in c:\\anacoda\\lib\\site-packages (from spacy) (0.10.1)\n",
      "Requirement already satisfied: tqdm<5.0.0,>=4.38.0 in c:\\anacoda\\lib\\site-packages (from spacy) (4.64.0)\n",
      "Requirement already satisfied: requests<3.0.0,>=2.13.0 in c:\\anacoda\\lib\\site-packages (from spacy) (2.27.1)\n",
      "Requirement already satisfied: srsly<3.0.0,>=2.4.3 in c:\\anacoda\\lib\\site-packages (from spacy) (2.4.5)\n",
      "Requirement already satisfied: numpy>=1.15.0 in c:\\anacoda\\lib\\site-packages (from spacy) (1.21.5)\n",
      "Requirement already satisfied: packaging>=20.0 in c:\\anacoda\\lib\\site-packages (from spacy) (21.3)\n",
      "Requirement already satisfied: setuptools in c:\\anacoda\\lib\\site-packages (from spacy) (61.2.0)\n",
      "Requirement already satisfied: cymem<2.1.0,>=2.0.2 in c:\\anacoda\\lib\\site-packages (from spacy) (2.0.7)\n",
      "Requirement already satisfied: pathy>=0.3.5 in c:\\anacoda\\lib\\site-packages (from spacy) (0.6.2)\n",
      "Requirement already satisfied: catalogue<2.1.0,>=2.0.6 in c:\\anacoda\\lib\\site-packages (from spacy) (2.0.8)\n",
      "Requirement already satisfied: spacy-loggers<2.0.0,>=1.0.0 in c:\\anacoda\\lib\\site-packages (from spacy) (1.0.3)\n",
      "Requirement already satisfied: jinja2 in c:\\anacoda\\lib\\site-packages (from spacy) (2.11.3)\n",
      "Requirement already satisfied: pyparsing!=3.0.5,>=2.0.2 in c:\\anacoda\\lib\\site-packages (from packaging>=20.0->spacy) (3.0.4)\n",
      "Requirement already satisfied: smart-open<6.0.0,>=5.2.1 in c:\\anacoda\\lib\\site-packages (from pathy>=0.3.5->spacy) (5.2.1)\n",
      "Requirement already satisfied: typing-extensions>=3.7.4.3 in c:\\anacoda\\lib\\site-packages (from pydantic!=1.8,!=1.8.1,<1.11.0,>=1.7.4->spacy) (4.4.0)\n",
      "Requirement already satisfied: urllib3<1.27,>=1.21.1 in c:\\anacoda\\lib\\site-packages (from requests<3.0.0,>=2.13.0->spacy) (1.26.9)\n",
      "Requirement already satisfied: idna<4,>=2.5 in c:\\anacoda\\lib\\site-packages (from requests<3.0.0,>=2.13.0->spacy) (3.3)\n",
      "Requirement already satisfied: charset-normalizer~=2.0.0 in c:\\anacoda\\lib\\site-packages (from requests<3.0.0,>=2.13.0->spacy) (2.0.4)\n",
      "Requirement already satisfied: certifi>=2017.4.17 in c:\\anacoda\\lib\\site-packages (from requests<3.0.0,>=2.13.0->spacy) (2021.10.8)\n",
      "Requirement already satisfied: confection<1.0.0,>=0.0.1 in c:\\anacoda\\lib\\site-packages (from thinc<8.2.0,>=8.1.0->spacy) (0.0.3)\n",
      "Requirement already satisfied: blis<0.8.0,>=0.7.8 in c:\\anacoda\\lib\\site-packages (from thinc<8.2.0,>=8.1.0->spacy) (0.7.9)\n",
      "Requirement already satisfied: colorama in c:\\anacoda\\lib\\site-packages (from tqdm<5.0.0,>=4.38.0->spacy) (0.4.4)\n",
      "Requirement already satisfied: click<9.0.0,>=7.1.1 in c:\\anacoda\\lib\\site-packages (from typer<0.5.0,>=0.3.0->spacy) (8.0.4)\n",
      "Requirement already satisfied: MarkupSafe>=0.23 in c:\\anacoda\\lib\\site-packages (from jinja2->spacy) (2.0.1)\n"
     ]
    }
   ],
   "source": [
    "!pip install -U spacy"
   ]
  },
  {
   "cell_type": "code",
   "execution_count": 2,
   "id": "c530ca4d",
   "metadata": {
    "ExecuteTime": {
     "end_time": "2022-10-28T09:41:11.855361Z",
     "start_time": "2022-10-28T09:41:09.477734Z"
    }
   },
   "outputs": [
    {
     "name": "stdout",
     "output_type": "stream",
     "text": [
      "Requirement already satisfied: wordcloud in c:\\anacoda\\lib\\site-packages (1.8.2.2)\n",
      "Requirement already satisfied: pillow in c:\\anacoda\\lib\\site-packages (from wordcloud) (9.0.1)\n",
      "Requirement already satisfied: matplotlib in c:\\anacoda\\lib\\site-packages (from wordcloud) (3.5.1)\n",
      "Requirement already satisfied: numpy>=1.6.1 in c:\\anacoda\\lib\\site-packages (from wordcloud) (1.21.5)\n",
      "Requirement already satisfied: pyparsing>=2.2.1 in c:\\anacoda\\lib\\site-packages (from matplotlib->wordcloud) (3.0.4)\n",
      "Requirement already satisfied: cycler>=0.10 in c:\\anacoda\\lib\\site-packages (from matplotlib->wordcloud) (0.11.0)\n",
      "Requirement already satisfied: python-dateutil>=2.7 in c:\\anacoda\\lib\\site-packages (from matplotlib->wordcloud) (2.8.2)\n",
      "Requirement already satisfied: fonttools>=4.22.0 in c:\\anacoda\\lib\\site-packages (from matplotlib->wordcloud) (4.25.0)\n",
      "Requirement already satisfied: packaging>=20.0 in c:\\anacoda\\lib\\site-packages (from matplotlib->wordcloud) (21.3)\n",
      "Requirement already satisfied: kiwisolver>=1.0.1 in c:\\anacoda\\lib\\site-packages (from matplotlib->wordcloud) (1.3.2)\n",
      "Requirement already satisfied: six>=1.5 in c:\\anacoda\\lib\\site-packages (from python-dateutil>=2.7->matplotlib->wordcloud) (1.16.0)\n"
     ]
    }
   ],
   "source": [
    "!pip install wordcloud"
   ]
  },
  {
   "cell_type": "code",
   "execution_count": 3,
   "id": "9a46b2b8",
   "metadata": {
    "ExecuteTime": {
     "end_time": "2022-10-28T09:42:11.617378Z",
     "start_time": "2022-10-28T09:41:49.825855Z"
    }
   },
   "outputs": [
    {
     "name": "stdout",
     "output_type": "stream",
     "text": [
      "Collecting en-core-web-sm==3.4.1\n",
      "  Downloading https://github.com/explosion/spacy-models/releases/download/en_core_web_sm-3.4.1/en_core_web_sm-3.4.1-py3-none-any.whl (12.8 MB)\n",
      "Requirement already satisfied: spacy<3.5.0,>=3.4.0 in c:\\anacoda\\lib\\site-packages (from en-core-web-sm==3.4.1) (3.4.2)\n",
      "Requirement already satisfied: spacy-legacy<3.1.0,>=3.0.10 in c:\\anacoda\\lib\\site-packages (from spacy<3.5.0,>=3.4.0->en-core-web-sm==3.4.1) (3.0.10)\n",
      "Requirement already satisfied: pathy>=0.3.5 in c:\\anacoda\\lib\\site-packages (from spacy<3.5.0,>=3.4.0->en-core-web-sm==3.4.1) (0.6.2)\n",
      "Requirement already satisfied: packaging>=20.0 in c:\\anacoda\\lib\\site-packages (from spacy<3.5.0,>=3.4.0->en-core-web-sm==3.4.1) (21.3)\n",
      "Requirement already satisfied: langcodes<4.0.0,>=3.2.0 in c:\\anacoda\\lib\\site-packages (from spacy<3.5.0,>=3.4.0->en-core-web-sm==3.4.1) (3.3.0)\n",
      "Requirement already satisfied: jinja2 in c:\\anacoda\\lib\\site-packages (from spacy<3.5.0,>=3.4.0->en-core-web-sm==3.4.1) (2.11.3)\n",
      "Requirement already satisfied: tqdm<5.0.0,>=4.38.0 in c:\\anacoda\\lib\\site-packages (from spacy<3.5.0,>=3.4.0->en-core-web-sm==3.4.1) (4.64.0)\n",
      "Requirement already satisfied: wasabi<1.1.0,>=0.9.1 in c:\\anacoda\\lib\\site-packages (from spacy<3.5.0,>=3.4.0->en-core-web-sm==3.4.1) (0.10.1)\n",
      "Requirement already satisfied: pydantic!=1.8,!=1.8.1,<1.11.0,>=1.7.4 in c:\\anacoda\\lib\\site-packages (from spacy<3.5.0,>=3.4.0->en-core-web-sm==3.4.1) (1.9.2)\n",
      "Requirement already satisfied: typer<0.5.0,>=0.3.0 in c:\\anacoda\\lib\\site-packages (from spacy<3.5.0,>=3.4.0->en-core-web-sm==3.4.1) (0.4.2)\n",
      "Requirement already satisfied: catalogue<2.1.0,>=2.0.6 in c:\\anacoda\\lib\\site-packages (from spacy<3.5.0,>=3.4.0->en-core-web-sm==3.4.1) (2.0.8)\n",
      "Requirement already satisfied: preshed<3.1.0,>=3.0.2 in c:\\anacoda\\lib\\site-packages (from spacy<3.5.0,>=3.4.0->en-core-web-sm==3.4.1) (3.0.8)\n",
      "Requirement already satisfied: numpy>=1.15.0 in c:\\anacoda\\lib\\site-packages (from spacy<3.5.0,>=3.4.0->en-core-web-sm==3.4.1) (1.21.5)\n",
      "Requirement already satisfied: srsly<3.0.0,>=2.4.3 in c:\\anacoda\\lib\\site-packages (from spacy<3.5.0,>=3.4.0->en-core-web-sm==3.4.1) (2.4.5)\n",
      "Requirement already satisfied: cymem<2.1.0,>=2.0.2 in c:\\anacoda\\lib\\site-packages (from spacy<3.5.0,>=3.4.0->en-core-web-sm==3.4.1) (2.0.7)\n",
      "Requirement already satisfied: thinc<8.2.0,>=8.1.0 in c:\\anacoda\\lib\\site-packages (from spacy<3.5.0,>=3.4.0->en-core-web-sm==3.4.1) (8.1.5)\n",
      "Requirement already satisfied: requests<3.0.0,>=2.13.0 in c:\\anacoda\\lib\\site-packages (from spacy<3.5.0,>=3.4.0->en-core-web-sm==3.4.1) (2.27.1)\n",
      "Requirement already satisfied: spacy-loggers<2.0.0,>=1.0.0 in c:\\anacoda\\lib\\site-packages (from spacy<3.5.0,>=3.4.0->en-core-web-sm==3.4.1) (1.0.3)\n",
      "Requirement already satisfied: murmurhash<1.1.0,>=0.28.0 in c:\\anacoda\\lib\\site-packages (from spacy<3.5.0,>=3.4.0->en-core-web-sm==3.4.1) (1.0.9)\n",
      "Requirement already satisfied: setuptools in c:\\anacoda\\lib\\site-packages (from spacy<3.5.0,>=3.4.0->en-core-web-sm==3.4.1) (61.2.0)\n",
      "Requirement already satisfied: pyparsing!=3.0.5,>=2.0.2 in c:\\anacoda\\lib\\site-packages (from packaging>=20.0->spacy<3.5.0,>=3.4.0->en-core-web-sm==3.4.1) (3.0.4)\n",
      "Requirement already satisfied: smart-open<6.0.0,>=5.2.1 in c:\\anacoda\\lib\\site-packages (from pathy>=0.3.5->spacy<3.5.0,>=3.4.0->en-core-web-sm==3.4.1) (5.2.1)\n",
      "Requirement already satisfied: typing-extensions>=3.7.4.3 in c:\\anacoda\\lib\\site-packages (from pydantic!=1.8,!=1.8.1,<1.11.0,>=1.7.4->spacy<3.5.0,>=3.4.0->en-core-web-sm==3.4.1) (4.4.0)\n",
      "Requirement already satisfied: charset-normalizer~=2.0.0 in c:\\anacoda\\lib\\site-packages (from requests<3.0.0,>=2.13.0->spacy<3.5.0,>=3.4.0->en-core-web-sm==3.4.1) (2.0.4)\n",
      "Requirement already satisfied: certifi>=2017.4.17 in c:\\anacoda\\lib\\site-packages (from requests<3.0.0,>=2.13.0->spacy<3.5.0,>=3.4.0->en-core-web-sm==3.4.1) (2021.10.8)\n",
      "Requirement already satisfied: idna<4,>=2.5 in c:\\anacoda\\lib\\site-packages (from requests<3.0.0,>=2.13.0->spacy<3.5.0,>=3.4.0->en-core-web-sm==3.4.1) (3.3)\n",
      "Requirement already satisfied: urllib3<1.27,>=1.21.1 in c:\\anacoda\\lib\\site-packages (from requests<3.0.0,>=2.13.0->spacy<3.5.0,>=3.4.0->en-core-web-sm==3.4.1) (1.26.9)\n",
      "Requirement already satisfied: blis<0.8.0,>=0.7.8 in c:\\anacoda\\lib\\site-packages (from thinc<8.2.0,>=8.1.0->spacy<3.5.0,>=3.4.0->en-core-web-sm==3.4.1) (0.7.9)\n",
      "Requirement already satisfied: confection<1.0.0,>=0.0.1 in c:\\anacoda\\lib\\site-packages (from thinc<8.2.0,>=8.1.0->spacy<3.5.0,>=3.4.0->en-core-web-sm==3.4.1) (0.0.3)\n",
      "Requirement already satisfied: colorama in c:\\anacoda\\lib\\site-packages (from tqdm<5.0.0,>=4.38.0->spacy<3.5.0,>=3.4.0->en-core-web-sm==3.4.1) (0.4.4)\n",
      "Requirement already satisfied: click<9.0.0,>=7.1.1 in c:\\anacoda\\lib\\site-packages (from typer<0.5.0,>=0.3.0->spacy<3.5.0,>=3.4.0->en-core-web-sm==3.4.1) (8.0.4)\n",
      "Requirement already satisfied: MarkupSafe>=0.23 in c:\\anacoda\\lib\\site-packages (from jinja2->spacy<3.5.0,>=3.4.0->en-core-web-sm==3.4.1) (2.0.1)\n",
      "[+] Download and installation successful\n",
      "You can now load the package via spacy.load('en_core_web_sm')\n"
     ]
    },
    {
     "name": "stderr",
     "output_type": "stream",
     "text": [
      "2022-10-28 15:11:50.684141: W tensorflow/stream_executor/platform/default/dso_loader.cc:64] Could not load dynamic library 'cudart64_110.dll'; dlerror: cudart64_110.dll not found\n",
      "2022-10-28 15:11:50.684181: I tensorflow/stream_executor/cuda/cudart_stub.cc:29] Ignore above cudart dlerror if you do not have a GPU set up on your machine.\n",
      "2022-10-28 15:11:53.045825: W tensorflow/stream_executor/platform/default/dso_loader.cc:64] Could not load dynamic library 'nvcuda.dll'; dlerror: nvcuda.dll not found\n",
      "2022-10-28 15:11:53.045854: W tensorflow/stream_executor/cuda/cuda_driver.cc:263] failed call to cuInit: UNKNOWN ERROR (303)\n",
      "2022-10-28 15:11:53.048916: I tensorflow/stream_executor/cuda/cuda_diagnostics.cc:169] retrieving CUDA diagnostic information for host: Dell-world\n",
      "2022-10-28 15:11:53.048980: I tensorflow/stream_executor/cuda/cuda_diagnostics.cc:176] hostname: Dell-world\n"
     ]
    }
   ],
   "source": [
    "!python -m spacy download en_core_web_sm"
   ]
  },
  {
   "cell_type": "code",
   "execution_count": 4,
   "id": "e35c2e97",
   "metadata": {
    "ExecuteTime": {
     "end_time": "2022-10-28T09:42:20.050651Z",
     "start_time": "2022-10-28T09:42:16.153117Z"
    }
   },
   "outputs": [],
   "source": [
    "import pandas as pd \n",
    "import numpy \n",
    "import string\n",
    "import spacy \n",
    "from matplotlib.pyplot import imread\n",
    "from matplotlib import pyplot as plt\n",
    "from wordcloud import wordcloud\n",
    "%matplotlib inline"
   ]
  },
  {
   "cell_type": "code",
   "execution_count": 5,
   "id": "9d9d8b95",
   "metadata": {
    "ExecuteTime": {
     "end_time": "2022-10-28T09:42:32.978598Z",
     "start_time": "2022-10-28T09:42:32.932486Z"
    }
   },
   "outputs": [
    {
     "data": {
      "text/html": [
       "<div>\n",
       "<style scoped>\n",
       "    .dataframe tbody tr th:only-of-type {\n",
       "        vertical-align: middle;\n",
       "    }\n",
       "\n",
       "    .dataframe tbody tr th {\n",
       "        vertical-align: top;\n",
       "    }\n",
       "\n",
       "    .dataframe thead th {\n",
       "        text-align: right;\n",
       "    }\n",
       "</style>\n",
       "<table border=\"1\" class=\"dataframe\">\n",
       "  <thead>\n",
       "    <tr style=\"text-align: right;\">\n",
       "      <th></th>\n",
       "      <th>Unnamed: 0</th>\n",
       "      <th>ProductUrl</th>\n",
       "      <th>productTitle</th>\n",
       "      <th>productPrice</th>\n",
       "      <th>averageRating</th>\n",
       "      <th>reviewTitle</th>\n",
       "      <th>reviewDescription</th>\n",
       "      <th>reviewAuthor</th>\n",
       "      <th>reviewAt</th>\n",
       "      <th>reviewLikes</th>\n",
       "      <th>reviewDislikes</th>\n",
       "      <th>certifiedBuyer</th>\n",
       "      <th>reviewerLocation</th>\n",
       "      <th>scrapedAt</th>\n",
       "      <th>uniqId</th>\n",
       "    </tr>\n",
       "  </thead>\n",
       "  <tbody>\n",
       "    <tr>\n",
       "      <th>0</th>\n",
       "      <td>0</td>\n",
       "      <td>https://www.flipkart.com/lg-108-cm-43-inch-ult...</td>\n",
       "      <td>LG 108 cm (43 inch) Ultra HD (4K) LED Smart TV</td>\n",
       "      <td>â¹36,499</td>\n",
       "      <td>4.4</td>\n",
       "      <td>Excellent</td>\n",
       "      <td>Very good product</td>\n",
       "      <td>palakollu  komali</td>\n",
       "      <td>6 months ago</td>\n",
       "      <td>0</td>\n",
       "      <td>1</td>\n",
       "      <td>True</td>\n",
       "      <td>Tenali</td>\n",
       "      <td>20/02/2022 02:03:42</td>\n",
       "      <td>4e9df8d3-736c-5dae-b867-b92b7f09fc84</td>\n",
       "    </tr>\n",
       "    <tr>\n",
       "      <th>1</th>\n",
       "      <td>1</td>\n",
       "      <td>https://www.flipkart.com/lg-108-cm-43-inch-ult...</td>\n",
       "      <td>LG 108 cm (43 inch) Ultra HD (4K) LED Smart TV</td>\n",
       "      <td>â¹36,499</td>\n",
       "      <td>4.4</td>\n",
       "      <td>Really Nice</td>\n",
       "      <td>Nice and super picture quality.and sound also ...</td>\n",
       "      <td>Yogesh  Virkar</td>\n",
       "      <td>3 months ago</td>\n",
       "      <td>0</td>\n",
       "      <td>0</td>\n",
       "      <td>True</td>\n",
       "      <td>Mumbai</td>\n",
       "      <td>20/02/2022 02:03:42</td>\n",
       "      <td>7ba04258-9f05-5642-ba33-8982db1f6c5e</td>\n",
       "    </tr>\n",
       "    <tr>\n",
       "      <th>2</th>\n",
       "      <td>2</td>\n",
       "      <td>https://www.flipkart.com/lg-108-cm-43-inch-ult...</td>\n",
       "      <td>LG 108 cm (43 inch) Ultra HD (4K) LED Smart TV</td>\n",
       "      <td>â¹36,499</td>\n",
       "      <td>4.4</td>\n",
       "      <td>Super!</td>\n",
       "      <td>This is excellent picture qualityUltimate soun...</td>\n",
       "      <td>Sudhir Kumar Chaudhary</td>\n",
       "      <td>3 months ago</td>\n",
       "      <td>0</td>\n",
       "      <td>0</td>\n",
       "      <td>True</td>\n",
       "      <td>Haridwar</td>\n",
       "      <td>20/02/2022 02:03:42</td>\n",
       "      <td>bfb20e97-eacf-5b76-a5eb-91999d6bd7a3</td>\n",
       "    </tr>\n",
       "    <tr>\n",
       "      <th>3</th>\n",
       "      <td>3</td>\n",
       "      <td>https://www.flipkart.com/lg-108-cm-43-inch-ult...</td>\n",
       "      <td>LG 108 cm (43 inch) Ultra HD (4K) LED Smart TV</td>\n",
       "      <td>â¹36,499</td>\n",
       "      <td>4.4</td>\n",
       "      <td>Just wow!</td>\n",
       "      <td>Nice</td>\n",
       "      <td>Flipkart Customer</td>\n",
       "      <td>3 months ago</td>\n",
       "      <td>0</td>\n",
       "      <td>0</td>\n",
       "      <td>True</td>\n",
       "      <td>Allahabad</td>\n",
       "      <td>20/02/2022 02:03:42</td>\n",
       "      <td>b659523f-96e2-50da-a1c0-13a65f410b6a</td>\n",
       "    </tr>\n",
       "    <tr>\n",
       "      <th>4</th>\n",
       "      <td>5</td>\n",
       "      <td>https://www.flipkart.com/lg-108-cm-43-inch-ult...</td>\n",
       "      <td>LG 108 cm (43 inch) Ultra HD (4K) LED Smart TV</td>\n",
       "      <td>â¹36,499</td>\n",
       "      <td>4.4</td>\n",
       "      <td>Highly recommended</td>\n",
       "      <td>Don't go with the negative reviews. Just go fo...</td>\n",
       "      <td>Ashok Mandial</td>\n",
       "      <td>3 months ago</td>\n",
       "      <td>0</td>\n",
       "      <td>0</td>\n",
       "      <td>True</td>\n",
       "      <td>Hamirpur District</td>\n",
       "      <td>20/02/2022 02:03:42</td>\n",
       "      <td>4876ae1b-4c7a-52a0-b5e0-dcf88efd1289</td>\n",
       "    </tr>\n",
       "    <tr>\n",
       "      <th>...</th>\n",
       "      <td>...</td>\n",
       "      <td>...</td>\n",
       "      <td>...</td>\n",
       "      <td>...</td>\n",
       "      <td>...</td>\n",
       "      <td>...</td>\n",
       "      <td>...</td>\n",
       "      <td>...</td>\n",
       "      <td>...</td>\n",
       "      <td>...</td>\n",
       "      <td>...</td>\n",
       "      <td>...</td>\n",
       "      <td>...</td>\n",
       "      <td>...</td>\n",
       "      <td>...</td>\n",
       "    </tr>\n",
       "    <tr>\n",
       "      <th>338</th>\n",
       "      <td>438</td>\n",
       "      <td>https://www.flipkart.com/lg-108-cm-43-inch-ult...</td>\n",
       "      <td>LG 108 cm (43 inch) Ultra HD (4K) LED Smart TV</td>\n",
       "      <td>â¹36,499</td>\n",
       "      <td>4.4</td>\n",
       "      <td>Nice product</td>\n",
       "      <td>Over all good âï¸ð¤©</td>\n",
       "      <td>Hari Krishnan</td>\n",
       "      <td>20 days ago</td>\n",
       "      <td>0</td>\n",
       "      <td>0</td>\n",
       "      <td>True</td>\n",
       "      <td>Kottayam District</td>\n",
       "      <td>20/02/2022 02:03:56</td>\n",
       "      <td>0d4001c2-e4ee-5b40-a390-f915b1f144f9</td>\n",
       "    </tr>\n",
       "    <tr>\n",
       "      <th>339</th>\n",
       "      <td>439</td>\n",
       "      <td>https://www.flipkart.com/lg-108-cm-43-inch-ult...</td>\n",
       "      <td>LG 108 cm (43 inch) Ultra HD (4K) LED Smart TV</td>\n",
       "      <td>â¹36,499</td>\n",
       "      <td>4.4</td>\n",
       "      <td>Very Good</td>\n",
       "      <td>For watching OTT content the best tv compared ...</td>\n",
       "      <td>Johns Abraham</td>\n",
       "      <td>1 month ago</td>\n",
       "      <td>1</td>\n",
       "      <td>0</td>\n",
       "      <td>True</td>\n",
       "      <td>Kozhikode District</td>\n",
       "      <td>20/02/2022 02:03:56</td>\n",
       "      <td>ceeb6d10-2afc-5d45-ae5f-ffb5bf4ca0b0</td>\n",
       "    </tr>\n",
       "    <tr>\n",
       "      <th>340</th>\n",
       "      <td>440</td>\n",
       "      <td>https://www.flipkart.com/lg-108-cm-43-inch-ult...</td>\n",
       "      <td>LG 108 cm (43 inch) Ultra HD (4K) LED Smart TV</td>\n",
       "      <td>â¹36,499</td>\n",
       "      <td>4.4</td>\n",
       "      <td>Best in the market!</td>\n",
       "      <td>wow</td>\n",
       "      <td>Shubam Sharma</td>\n",
       "      <td>2 months ago</td>\n",
       "      <td>1</td>\n",
       "      <td>0</td>\n",
       "      <td>True</td>\n",
       "      <td>Jammu</td>\n",
       "      <td>20/02/2022 02:03:56</td>\n",
       "      <td>12c7d8e3-c655-5cfc-a8fa-36a97d75ce5c</td>\n",
       "    </tr>\n",
       "    <tr>\n",
       "      <th>341</th>\n",
       "      <td>441</td>\n",
       "      <td>https://www.flipkart.com/lg-108-cm-43-inch-ult...</td>\n",
       "      <td>LG 108 cm (43 inch) Ultra HD (4K) LED Smart TV</td>\n",
       "      <td>â¹36,499</td>\n",
       "      <td>4.4</td>\n",
       "      <td>Great product</td>\n",
       "      <td>I got IPS panel in 50 inch everyone in reviews...</td>\n",
       "      <td>Ankit Yadav</td>\n",
       "      <td>2 months ago</td>\n",
       "      <td>1</td>\n",
       "      <td>0</td>\n",
       "      <td>True</td>\n",
       "      <td>Jabalpur</td>\n",
       "      <td>20/02/2022 02:03:56</td>\n",
       "      <td>3039b642-b8d6-590b-8487-7c72ddb0915f</td>\n",
       "    </tr>\n",
       "    <tr>\n",
       "      <th>342</th>\n",
       "      <td>451</td>\n",
       "      <td>https://www.flipkart.com/lg-108-cm-43-inch-ult...</td>\n",
       "      <td>LG 108 cm (43 inch) Ultra HD (4K) LED Smart TV</td>\n",
       "      <td>â¹36,499</td>\n",
       "      <td>4.4</td>\n",
       "      <td>Value-for-money</td>\n",
       "      <td>Very good</td>\n",
       "      <td>Pradeep Meher</td>\n",
       "      <td>3 months ago</td>\n",
       "      <td>0</td>\n",
       "      <td>0</td>\n",
       "      <td>True</td>\n",
       "      <td>Balangir District</td>\n",
       "      <td>20/02/2022 02:04:04</td>\n",
       "      <td>c591da88-665c-585f-929b-59ebb07b5073</td>\n",
       "    </tr>\n",
       "  </tbody>\n",
       "</table>\n",
       "<p>343 rows × 15 columns</p>\n",
       "</div>"
      ],
      "text/plain": [
       "     Unnamed: 0                                         ProductUrl  \\\n",
       "0             0  https://www.flipkart.com/lg-108-cm-43-inch-ult...   \n",
       "1             1  https://www.flipkart.com/lg-108-cm-43-inch-ult...   \n",
       "2             2  https://www.flipkart.com/lg-108-cm-43-inch-ult...   \n",
       "3             3  https://www.flipkart.com/lg-108-cm-43-inch-ult...   \n",
       "4             5  https://www.flipkart.com/lg-108-cm-43-inch-ult...   \n",
       "..          ...                                                ...   \n",
       "338         438  https://www.flipkart.com/lg-108-cm-43-inch-ult...   \n",
       "339         439  https://www.flipkart.com/lg-108-cm-43-inch-ult...   \n",
       "340         440  https://www.flipkart.com/lg-108-cm-43-inch-ult...   \n",
       "341         441  https://www.flipkart.com/lg-108-cm-43-inch-ult...   \n",
       "342         451  https://www.flipkart.com/lg-108-cm-43-inch-ult...   \n",
       "\n",
       "                                       productTitle productPrice  \\\n",
       "0    LG 108 cm (43 inch) Ultra HD (4K) LED Smart TV    â¹36,499   \n",
       "1    LG 108 cm (43 inch) Ultra HD (4K) LED Smart TV    â¹36,499   \n",
       "2    LG 108 cm (43 inch) Ultra HD (4K) LED Smart TV    â¹36,499   \n",
       "3    LG 108 cm (43 inch) Ultra HD (4K) LED Smart TV    â¹36,499   \n",
       "4    LG 108 cm (43 inch) Ultra HD (4K) LED Smart TV    â¹36,499   \n",
       "..                                              ...          ...   \n",
       "338  LG 108 cm (43 inch) Ultra HD (4K) LED Smart TV    â¹36,499   \n",
       "339  LG 108 cm (43 inch) Ultra HD (4K) LED Smart TV    â¹36,499   \n",
       "340  LG 108 cm (43 inch) Ultra HD (4K) LED Smart TV    â¹36,499   \n",
       "341  LG 108 cm (43 inch) Ultra HD (4K) LED Smart TV    â¹36,499   \n",
       "342  LG 108 cm (43 inch) Ultra HD (4K) LED Smart TV    â¹36,499   \n",
       "\n",
       "     averageRating          reviewTitle  \\\n",
       "0              4.4            Excellent   \n",
       "1              4.4          Really Nice   \n",
       "2              4.4               Super!   \n",
       "3              4.4            Just wow!   \n",
       "4              4.4   Highly recommended   \n",
       "..             ...                  ...   \n",
       "338            4.4         Nice product   \n",
       "339            4.4            Very Good   \n",
       "340            4.4  Best in the market!   \n",
       "341            4.4        Great product   \n",
       "342            4.4      Value-for-money   \n",
       "\n",
       "                                     reviewDescription  \\\n",
       "0                                    Very good product   \n",
       "1    Nice and super picture quality.and sound also ...   \n",
       "2    This is excellent picture qualityUltimate soun...   \n",
       "3                                                 Nice   \n",
       "4    Don't go with the negative reviews. Just go fo...   \n",
       "..                                                 ...   \n",
       "338                           Over all good âï¸ð¤©   \n",
       "339  For watching OTT content the best tv compared ...   \n",
       "340                                                wow   \n",
       "341  I got IPS panel in 50 inch everyone in reviews...   \n",
       "342                                          Very good   \n",
       "\n",
       "               reviewAuthor      reviewAt  reviewLikes  reviewDislikes  \\\n",
       "0         palakollu  komali  6 months ago            0               1   \n",
       "1            Yogesh  Virkar  3 months ago            0               0   \n",
       "2    Sudhir Kumar Chaudhary  3 months ago            0               0   \n",
       "3         Flipkart Customer  3 months ago            0               0   \n",
       "4             Ashok Mandial  3 months ago            0               0   \n",
       "..                      ...           ...          ...             ...   \n",
       "338           Hari Krishnan   20 days ago            0               0   \n",
       "339           Johns Abraham   1 month ago            1               0   \n",
       "340           Shubam Sharma  2 months ago            1               0   \n",
       "341             Ankit Yadav  2 months ago            1               0   \n",
       "342           Pradeep Meher  3 months ago            0               0   \n",
       "\n",
       "     certifiedBuyer     reviewerLocation            scrapedAt  \\\n",
       "0              True               Tenali  20/02/2022 02:03:42   \n",
       "1              True               Mumbai  20/02/2022 02:03:42   \n",
       "2              True             Haridwar  20/02/2022 02:03:42   \n",
       "3              True            Allahabad  20/02/2022 02:03:42   \n",
       "4              True    Hamirpur District  20/02/2022 02:03:42   \n",
       "..              ...                  ...                  ...   \n",
       "338            True    Kottayam District  20/02/2022 02:03:56   \n",
       "339            True   Kozhikode District  20/02/2022 02:03:56   \n",
       "340            True                Jammu  20/02/2022 02:03:56   \n",
       "341            True             Jabalpur  20/02/2022 02:03:56   \n",
       "342            True    Balangir District  20/02/2022 02:04:04   \n",
       "\n",
       "                                   uniqId  \n",
       "0    4e9df8d3-736c-5dae-b867-b92b7f09fc84  \n",
       "1    7ba04258-9f05-5642-ba33-8982db1f6c5e  \n",
       "2    bfb20e97-eacf-5b76-a5eb-91999d6bd7a3  \n",
       "3    b659523f-96e2-50da-a1c0-13a65f410b6a  \n",
       "4    4876ae1b-4c7a-52a0-b5e0-dcf88efd1289  \n",
       "..                                    ...  \n",
       "338  0d4001c2-e4ee-5b40-a390-f915b1f144f9  \n",
       "339  ceeb6d10-2afc-5d45-ae5f-ffb5bf4ca0b0  \n",
       "340  12c7d8e3-c655-5cfc-a8fa-36a97d75ce5c  \n",
       "341  3039b642-b8d6-590b-8487-7c72ddb0915f  \n",
       "342  c591da88-665c-585f-929b-59ebb07b5073  \n",
       "\n",
       "[343 rows x 15 columns]"
      ]
     },
     "execution_count": 5,
     "metadata": {},
     "output_type": "execute_result"
    }
   ],
   "source": [
    "#Read the datasets\n",
    "import pandas\n",
    "Flipkart=pd.read_csv(\"flipkart_review_data.csv\",encoding='Latin-1') \n",
    "Flipkart"
   ]
  },
  {
   "cell_type": "code",
   "execution_count": 6,
   "id": "3ef232aa",
   "metadata": {
    "ExecuteTime": {
     "end_time": "2022-10-28T09:42:45.293762Z",
     "start_time": "2022-10-28T09:42:45.278155Z"
    }
   },
   "outputs": [
    {
     "data": {
      "text/plain": [
       "Index(['Unnamed: 0', 'ProductUrl', 'productTitle', 'productPrice',\n",
       "       'averageRating', 'reviewTitle', 'reviewDescription', 'reviewAuthor',\n",
       "       'reviewAt', 'reviewLikes', 'reviewDislikes', 'certifiedBuyer',\n",
       "       'reviewerLocation', 'scrapedAt', 'uniqId'],\n",
       "      dtype='object')"
      ]
     },
     "execution_count": 6,
     "metadata": {},
     "output_type": "execute_result"
    }
   ],
   "source": [
    "Flipkart.columns"
   ]
  },
  {
   "cell_type": "code",
   "execution_count": 7,
   "id": "d0c47760",
   "metadata": {
    "ExecuteTime": {
     "end_time": "2022-10-28T09:42:58.672746Z",
     "start_time": "2022-10-28T09:42:58.664750Z"
    }
   },
   "outputs": [],
   "source": [
    "Flipkart=Flipkart.iloc[:,[6]]"
   ]
  },
  {
   "cell_type": "code",
   "execution_count": 8,
   "id": "da574317",
   "metadata": {
    "ExecuteTime": {
     "end_time": "2022-10-28T09:43:11.024865Z",
     "start_time": "2022-10-28T09:43:11.008694Z"
    }
   },
   "outputs": [
    {
     "data": {
      "text/html": [
       "<div>\n",
       "<style scoped>\n",
       "    .dataframe tbody tr th:only-of-type {\n",
       "        vertical-align: middle;\n",
       "    }\n",
       "\n",
       "    .dataframe tbody tr th {\n",
       "        vertical-align: top;\n",
       "    }\n",
       "\n",
       "    .dataframe thead th {\n",
       "        text-align: right;\n",
       "    }\n",
       "</style>\n",
       "<table border=\"1\" class=\"dataframe\">\n",
       "  <thead>\n",
       "    <tr style=\"text-align: right;\">\n",
       "      <th></th>\n",
       "      <th>reviewDescription</th>\n",
       "    </tr>\n",
       "  </thead>\n",
       "  <tbody>\n",
       "    <tr>\n",
       "      <th>0</th>\n",
       "      <td>Very good product</td>\n",
       "    </tr>\n",
       "    <tr>\n",
       "      <th>1</th>\n",
       "      <td>Nice and super picture quality.and sound also ...</td>\n",
       "    </tr>\n",
       "    <tr>\n",
       "      <th>2</th>\n",
       "      <td>This is excellent picture qualityUltimate soun...</td>\n",
       "    </tr>\n",
       "    <tr>\n",
       "      <th>3</th>\n",
       "      <td>Nice</td>\n",
       "    </tr>\n",
       "    <tr>\n",
       "      <th>4</th>\n",
       "      <td>Don't go with the negative reviews. Just go fo...</td>\n",
       "    </tr>\n",
       "    <tr>\n",
       "      <th>...</th>\n",
       "      <td>...</td>\n",
       "    </tr>\n",
       "    <tr>\n",
       "      <th>338</th>\n",
       "      <td>Over all good âï¸ð¤©</td>\n",
       "    </tr>\n",
       "    <tr>\n",
       "      <th>339</th>\n",
       "      <td>For watching OTT content the best tv compared ...</td>\n",
       "    </tr>\n",
       "    <tr>\n",
       "      <th>340</th>\n",
       "      <td>wow</td>\n",
       "    </tr>\n",
       "    <tr>\n",
       "      <th>341</th>\n",
       "      <td>I got IPS panel in 50 inch everyone in reviews...</td>\n",
       "    </tr>\n",
       "    <tr>\n",
       "      <th>342</th>\n",
       "      <td>Very good</td>\n",
       "    </tr>\n",
       "  </tbody>\n",
       "</table>\n",
       "<p>343 rows × 1 columns</p>\n",
       "</div>"
      ],
      "text/plain": [
       "                                     reviewDescription\n",
       "0                                    Very good product\n",
       "1    Nice and super picture quality.and sound also ...\n",
       "2    This is excellent picture qualityUltimate soun...\n",
       "3                                                 Nice\n",
       "4    Don't go with the negative reviews. Just go fo...\n",
       "..                                                 ...\n",
       "338                           Over all good âï¸ð¤©\n",
       "339  For watching OTT content the best tv compared ...\n",
       "340                                                wow\n",
       "341  I got IPS panel in 50 inch everyone in reviews...\n",
       "342                                          Very good\n",
       "\n",
       "[343 rows x 1 columns]"
      ]
     },
     "execution_count": 8,
     "metadata": {},
     "output_type": "execute_result"
    }
   ],
   "source": [
    "Flipkart"
   ]
  },
  {
   "cell_type": "code",
   "execution_count": 9,
   "id": "a37dc065",
   "metadata": {
    "ExecuteTime": {
     "end_time": "2022-10-28T09:43:30.460904Z",
     "start_time": "2022-10-28T09:43:30.445716Z"
    }
   },
   "outputs": [],
   "source": [
    "Flipkart_df = [reviewDescription.strip() for reviewDescription in Flipkart.reviewDescription] # remove both the leading and the trailing characters"
   ]
  },
  {
   "cell_type": "code",
   "execution_count": 10,
   "id": "387386ed",
   "metadata": {
    "ExecuteTime": {
     "end_time": "2022-10-28T09:43:46.026574Z",
     "start_time": "2022-10-28T09:43:46.018458Z"
    }
   },
   "outputs": [],
   "source": [
    "Flipkart_df = [reviewDescription for reviewDescription in Flipkart if reviewDescription] # removes empty strings, because they are considered in Python as False "
   ]
  },
  {
   "cell_type": "code",
   "execution_count": 11,
   "id": "c53d1fa5",
   "metadata": {
    "ExecuteTime": {
     "end_time": "2022-10-28T09:43:52.982858Z",
     "start_time": "2022-10-28T09:43:52.966960Z"
    }
   },
   "outputs": [
    {
     "data": {
      "text/plain": [
       "['reviewDescription']"
      ]
     },
     "execution_count": 11,
     "metadata": {},
     "output_type": "execute_result"
    }
   ],
   "source": [
    "Flipkart_df"
   ]
  },
  {
   "cell_type": "code",
   "execution_count": 12,
   "id": "92e9ae61",
   "metadata": {
    "ExecuteTime": {
     "end_time": "2022-10-28T09:44:04.197320Z",
     "start_time": "2022-10-28T09:44:03.793310Z"
    }
   },
   "outputs": [],
   "source": [
    "##Part Of Speech Tagging\n",
    "nlp = spacy.load('en_core_web_sm')"
   ]
  },
  {
   "cell_type": "code",
   "execution_count": 18,
   "id": "a92f77db",
   "metadata": {
    "ExecuteTime": {
     "end_time": "2022-10-28T09:47:06.133209Z",
     "start_time": "2022-10-28T09:47:06.107953Z"
    }
   },
   "outputs": [],
   "source": [
    "one_block = Flipkart_df"
   ]
  },
  {
   "cell_type": "code",
   "execution_count": 21,
   "id": "c3c21806",
   "metadata": {
    "ExecuteTime": {
     "end_time": "2022-10-28T09:48:05.425002Z",
     "start_time": "2022-10-28T09:48:05.392242Z"
    }
   },
   "outputs": [],
   "source": [
    "doc_block = nlp('one_block')"
   ]
  },
  {
   "cell_type": "code",
   "execution_count": 22,
   "id": "4d15d396",
   "metadata": {
    "ExecuteTime": {
     "end_time": "2022-10-28T09:48:09.575276Z",
     "start_time": "2022-10-28T09:48:09.554183Z"
    }
   },
   "outputs": [
    {
     "name": "stderr",
     "output_type": "stream",
     "text": [
      "C:\\anacoda\\lib\\site-packages\\spacy\\displacy\\__init__.py:206: UserWarning: [W006] No entities to visualize found in Doc object. If this is surprising to you, make sure the Doc was processed using a model that supports named entity recognition, and check the `doc.ents` property manually if necessary.\n",
      "  warnings.warn(Warnings.W006)\n"
     ]
    },
    {
     "data": {
      "text/html": [
       "<span class=\"tex2jax_ignore\"><div class=\"entities\" style=\"line-height: 2.5; direction: ltr\">one_block</div></span>"
      ],
      "text/plain": [
       "<IPython.core.display.HTML object>"
      ]
     },
     "metadata": {},
     "output_type": "display_data"
    }
   ],
   "source": [
    "spacy.displacy.render(doc_block, style='ent', jupyter=True) "
   ]
  },
  {
   "cell_type": "code",
   "execution_count": null,
   "id": "c75bf981",
   "metadata": {},
   "outputs": [],
   "source": []
  }
 ],
 "metadata": {
  "kernelspec": {
   "display_name": "Python 3 (ipykernel)",
   "language": "python",
   "name": "python3"
  },
  "language_info": {
   "codemirror_mode": {
    "name": "ipython",
    "version": 3
   },
   "file_extension": ".py",
   "mimetype": "text/x-python",
   "name": "python",
   "nbconvert_exporter": "python",
   "pygments_lexer": "ipython3",
   "version": "3.9.7"
  }
 },
 "nbformat": 4,
 "nbformat_minor": 5
}
